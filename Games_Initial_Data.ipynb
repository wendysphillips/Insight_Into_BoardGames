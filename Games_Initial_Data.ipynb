{
  "nbformat": 4,
  "nbformat_minor": 0,
  "metadata": {
    "kernelspec": {
      "display_name": "Python 3.6 - AzureML",
      "language": "python",
      "name": "python3-azureml"
    },
    "language_info": {
      "codemirror_mode": {
        "name": "ipython",
        "version": 3
      },
      "file_extension": ".py",
      "mimetype": "text/x-python",
      "name": "python",
      "nbconvert_exporter": "python",
      "pygments_lexer": "ipython3",
      "version": "3.6.9"
    },
    "colab": {
      "name": "Games (1).ipynb",
      "provenance": [],
      "collapsed_sections": [
        "IK2R5n-R_Wm2"
      ],
      "toc_visible": true,
      "include_colab_link": true
    }
  },
  "cells": [
    {
      "cell_type": "markdown",
      "metadata": {
        "id": "view-in-github",
        "colab_type": "text"
      },
      "source": [
        "<a href=\"https://colab.research.google.com/github/wendysphillips/Insight_Into_BoardGames/blob/master/Games_Initial_Data.ipynb\" target=\"_parent\"><img src=\"https://colab.research.google.com/assets/colab-badge.svg\" alt=\"Open In Colab\"/></a>"
      ]
    },
    {
      "cell_type": "markdown",
      "metadata": {
        "id": "MTJ43ngX_WiZ",
        "colab_type": "text"
      },
      "source": [
        "## Board game data compilation"
      ]
    },
    {
      "cell_type": "markdown",
      "metadata": {
        "id": "uuY5Mlw5_Wib",
        "colab_type": "text"
      },
      "source": [
        "Import libraries"
      ]
    },
    {
      "cell_type": "code",
      "metadata": {
        "scrolled": true,
        "id": "OtrqbtEh_Wic",
        "colab_type": "code",
        "colab": {}
      },
      "source": [
        "import pandas as pd\n",
        "import json\n",
        "from pandas.io.json import json_normalize\n",
        "import requests\n",
        "import numpy as np\n",
        "import matplotlib.pyplot as plt\n",
        "import seaborn as sns\n",
        "import sklearn"
      ],
      "execution_count": 0,
      "outputs": []
    },
    {
      "cell_type": "markdown",
      "metadata": {
        "id": "5S51QeYc_Wi8",
        "colab_type": "text"
      },
      "source": [
        "Client id for boardgameatlas.com"
      ]
    },
    {
      "cell_type": "code",
      "metadata": {
        "scrolled": true,
        "id": "pglL1Jqc_Wi8",
        "colab_type": "code",
        "colab": {}
      },
      "source": [
        "client_id = \"\"\n",
        "client_secret = \"\""
      ],
      "execution_count": 0,
      "outputs": []
    },
    {
      "cell_type": "markdown",
      "metadata": {
        "id": "Wgi8Hdan_Wi_",
        "colab_type": "text"
      },
      "source": [
        "Query all, ordering by popularity, receive as a json file, then normalize the json file"
      ]
    },
    {
      "cell_type": "code",
      "metadata": {
        "id": "xePsew8c_WjA",
        "colab_type": "code",
        "colab": {}
      },
      "source": [
        "url = \"https://www.boardgameatlas.com/api/search?order_by=popularity&ascending=false&skip=\"+str(0)+\"&client_id=\"\n",
        "#results = requests.get(url).json()\n",
        "##game_review = json_normalize(results_review['reviews'])"
      ],
      "execution_count": 0,
      "outputs": []
    },
    {
      "cell_type": "code",
      "metadata": {
        "scrolled": true,
        "id": "UFdc7FR2_WjC",
        "colab_type": "code",
        "colab": {}
      },
      "source": [
        "results = requests.get(url).json()"
      ],
      "execution_count": 0,
      "outputs": []
    },
    {
      "cell_type": "markdown",
      "metadata": {
        "id": "7CScy_SX_WjJ",
        "colab_type": "text"
      },
      "source": [
        "Convert json to data frame"
      ]
    },
    {
      "cell_type": "markdown",
      "metadata": {
        "id": "icvYsLyd_WjM",
        "colab_type": "text"
      },
      "source": [
        "Look at resulting json normalized file"
      ]
    },
    {
      "cell_type": "code",
      "metadata": {
        "scrolled": true,
        "id": "GSAmY_15_WjJ",
        "colab_type": "code",
        "colab": {}
      },
      "source": [
        "games = json_normalize(results['games'])"
      ],
      "execution_count": 0,
      "outputs": []
    },
    {
      "cell_type": "code",
      "metadata": {
        "scrolled": true,
        "id": "198cqcw8_Wjh",
        "colab_type": "code",
        "colab": {}
      },
      "source": [
        "gamepdf = pd.DataFrame(gamedf)"
      ],
      "execution_count": 0,
      "outputs": []
    },
    {
      "cell_type": "markdown",
      "metadata": {
        "id": "zof2MkSWHDxy",
        "colab_type": "text"
      },
      "source": [
        "Get the most popular 7400 games"
      ]
    },
    {
      "cell_type": "code",
      "metadata": {
        "scrolled": true,
        "id": "-i4j4kIb_Wju",
        "colab_type": "code",
        "colab": {}
      },
      "source": [
        "#for i in range(1,75):\n",
        "\tskip = i*100\n",
        "\turl = \"https://www.boardgameatlas.com/api/search?order_by=popularity&ascending=false&skip=\"+str(skip)+\"&client_id=7RHUoCcqtp\"\n",
        "\tresults = requests.get(url).json()\n",
        "\tgamedf = json_normalize(results,'games')\n",
        "\tgamepdf = pd.DataFrame(gamedf)\n",
        "\tgames2 = games2.append(gamepdf,ignore_index=True, sort=False)"
      ],
      "execution_count": 0,
      "outputs": []
    },
    {
      "cell_type": "markdown",
      "metadata": {
        "id": "jEoYnzLvHXCj",
        "colab_type": "text"
      },
      "source": [
        "Save results to import"
      ]
    },
    {
      "cell_type": "code",
      "metadata": {
        "scrolled": true,
        "id": "Rz91G17z_Wjy",
        "colab_type": "code",
        "colab": {}
      },
      "source": [
        "games2.to_csv('Games7400.csv',index=False)"
      ],
      "execution_count": 0,
      "outputs": []
    },
    {
      "cell_type": "markdown",
      "metadata": {
        "id": "jhXV-GFkHJjE",
        "colab_type": "text"
      },
      "source": [
        "Read in stored query results"
      ]
    },
    {
      "cell_type": "code",
      "metadata": {
        "id": "BMLYCixOBQE_",
        "colab_type": "code",
        "colab": {}
      },
      "source": [
        "games2=pd.read_csv('Games7400.csv')"
      ],
      "execution_count": 0,
      "outputs": []
    },
    {
      "cell_type": "code",
      "metadata": {
        "id": "oUXPSQ8L_Wjx",
        "colab_type": "code",
        "colab": {}
      },
      "source": [
        "len(games2)"
      ],
      "execution_count": 0,
      "outputs": []
    },
    {
      "cell_type": "markdown",
      "metadata": {
        "id": "rjIXhxq2_Wjz",
        "colab_type": "text"
      },
      "source": [
        "### Read in stored games csv"
      ]
    },
    {
      "cell_type": "code",
      "metadata": {
        "id": "bmKru27O_Wj7",
        "colab_type": "code",
        "colab": {}
      },
      "source": [
        "ind = ['name','average_user_rating', 'min_age']"
      ],
      "execution_count": 0,
      "outputs": []
    },
    {
      "cell_type": "code",
      "metadata": {
        "id": "hFg1xN6G_Wj8",
        "colab_type": "code",
        "colab": {}
      },
      "source": [
        "games3[games3['name'].str.contains(\"oot\", na=False)][ind]"
      ],
      "execution_count": 0,
      "outputs": []
    },
    {
      "cell_type": "code",
      "metadata": {
        "id": "0MNKBAUn_Wj9",
        "colab_type": "code",
        "colab": {}
      },
      "source": [
        "games3[games3['name'].str.contains(\"Out|out\", na=False)].name"
      ],
      "execution_count": 0,
      "outputs": []
    },
    {
      "cell_type": "code",
      "metadata": {
        "id": "VOZZ-a9B_WkF",
        "colab_type": "code",
        "colab": {}
      },
      "source": [
        "gamesub =['name','average_user_rating','max_players', 'max_playtime', \n",
        "       'min_age', 'min_players', 'min_playtime', 'msrp']"
      ],
      "execution_count": 0,
      "outputs": []
    },
    {
      "cell_type": "code",
      "metadata": {
        "id": "SebVu_XW_WkG",
        "colab_type": "code",
        "colab": {}
      },
      "source": [
        "gamesnumcol = games3[gamesub]"
      ],
      "execution_count": 0,
      "outputs": []
    },
    {
      "cell_type": "code",
      "metadata": {
        "id": "IJiSf5Pk_WkL",
        "colab_type": "code",
        "colab": {}
      },
      "source": [
        "gsort[(gsort['average_user_rating']>4)]"
      ],
      "execution_count": 0,
      "outputs": []
    },
    {
      "cell_type": "code",
      "metadata": {
        "id": "NsowmCOx_Wkr",
        "colab_type": "code",
        "colab": {}
      },
      "source": [
        "sns.jointplot(x=temp['msrp'], y=temp['max_playtime'], kind='kde')"
      ],
      "execution_count": 0,
      "outputs": []
    },
    {
      "cell_type": "markdown",
      "metadata": {
        "id": "mjnPjULg_Wks",
        "colab_type": "text"
      },
      "source": [
        "Check distribution of number of user ratings per game"
      ]
    },
    {
      "cell_type": "code",
      "metadata": {
        "scrolled": false,
        "id": "Jmu4cdiN_Wks",
        "colab_type": "code",
        "colab": {}
      },
      "source": [
        "sns.boxplot(x=\"num_user_ratings\", data=games2,palette=\"Greens_d\")"
      ],
      "execution_count": 0,
      "outputs": []
    },
    {
      "cell_type": "markdown",
      "metadata": {
        "id": "r2N58C_x_Wmw",
        "colab_type": "text"
      },
      "source": [
        "### Board Game Geek section"
      ]
    },
    {
      "cell_type": "code",
      "metadata": {
        "scrolled": true,
        "id": "f2HHT9pi_Wmx",
        "colab_type": "code",
        "colab": {}
      },
      "source": [
        "url = \"http://www.boardgamegeek.com/xmlapi/search?search=Nemesis\""
      ],
      "execution_count": 0,
      "outputs": []
    },
    {
      "cell_type": "code",
      "metadata": {
        "scrolled": true,
        "id": "XEMWiIMs_Wmy",
        "colab_type": "code",
        "colab": {}
      },
      "source": [
        "r = requests.get(url)\n",
        "page_source = r.text\n",
        "page_source"
      ],
      "execution_count": 0,
      "outputs": []
    },
    {
      "cell_type": "code",
      "metadata": {
        "scrolled": true,
        "id": "hmv1YH-u_Wmy",
        "colab_type": "code",
        "colab": {}
      },
      "source": [
        "r.text"
      ],
      "execution_count": 0,
      "outputs": []
    },
    {
      "cell_type": "code",
      "metadata": {
        "scrolled": true,
        "id": "DamYlQ9X_Wmz",
        "colab_type": "code",
        "colab": {}
      },
      "source": [
        "page_source.replace(\"\\t\", \"\")"
      ],
      "execution_count": 0,
      "outputs": []
    },
    {
      "cell_type": "code",
      "metadata": {
        "scrolled": true,
        "id": "B1WzqtQD_Wm0",
        "colab_type": "code",
        "colab": {}
      },
      "source": [
        "url2 = \"http://www.boardgamegeek.com/xmlapi2/thing?id=167355&stats=1\""
      ],
      "execution_count": 0,
      "outputs": []
    },
    {
      "cell_type": "code",
      "metadata": {
        "scrolled": true,
        "id": "e3GsqXBL_Wm0",
        "colab_type": "code",
        "colab": {}
      },
      "source": [
        "r2 = requests.get(url2)"
      ],
      "execution_count": 0,
      "outputs": []
    },
    {
      "cell_type": "code",
      "metadata": {
        "scrolled": true,
        "id": "PDTUQwAW_Wm1",
        "colab_type": "code",
        "colab": {}
      },
      "source": [
        "page_source2 = r2.text\n",
        "z=page_source2.replace(\"\\t\", \"\")\n",
        "z.replace(\"\\n\",\"\")"
      ],
      "execution_count": 0,
      "outputs": []
    },
    {
      "cell_type": "markdown",
      "metadata": {
        "id": "IK2R5n-R_Wm2",
        "colab_type": "text"
      },
      "source": [
        "#### End Board Game Geek section"
      ]
    }
  ]
}