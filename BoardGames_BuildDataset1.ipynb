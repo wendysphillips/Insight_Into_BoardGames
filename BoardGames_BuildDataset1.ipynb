{
 "cells": [
  {
   "cell_type": "markdown",
   "metadata": {},
   "source": [
    "## Board game data compilation"
   ]
  },
  {
   "cell_type": "markdown",
   "metadata": {},
   "source": [
    "Import libraries"
   ]
  },
  {
   "cell_type": "code",
   "execution_count": null,
   "metadata": {},
   "outputs": [],
   "source": [
    "import pandas as pd\n",
    "from pandas.io.json import json_normalize\n",
    "import requests\n",
    "import numpy as np\n",
    "import matplotlib.pyplot as plt\n",
    "import seaborn as sns\n",
    "import sklearn\n",
    "import json"
   ]
  },
  {
   "cell_type": "markdown",
   "metadata": {},
   "source": [
    "Client id for boardgameatlas.com"
   ]
  },
  {
   "cell_type": "code",
   "execution_count": null,
   "metadata": {
    "scrolled": true
   },
   "outputs": [],
   "source": [
    "client_id = \"\n",
    "client_secret = \"\""
   ]
  },
  {
   "cell_type": "markdown",
   "metadata": {},
   "source": [
    "#### Test qpi query of boardgameatlas.com\n",
    "Query all, ordering by popularity, receive as a json file, then normalize the json file"
   ]
  },
  {
   "cell_type": "code",
   "execution_count": null,
   "metadata": {},
   "outputs": [],
   "source": [
    "url = \"https://www.boardgameatlas.com/api/search?order_by=popularity&ascending=false&skip=\"+str(0)+\"&client_id=\"\n",
    "results = requests.get(url).json()"
   ]
  },
  {
   "cell_type": "markdown",
   "metadata": {},
   "source": [
    "Check results"
   ]
  },
  {
   "cell_type": "code",
   "execution_count": null,
   "metadata": {
    "scrolled": true
   },
   "outputs": [],
   "source": [
    "results"
   ]
  },
  {
   "cell_type": "markdown",
   "metadata": {},
   "source": [
    "Convert json to data frame"
   ]
  },
  {
   "cell_type": "code",
   "execution_count": null,
   "metadata": {
    "scrolled": true
   },
   "outputs": [],
   "source": [
    "games = json_normalize(results['games'])"
   ]
  },
  {
   "cell_type": "markdown",
   "metadata": {},
   "source": [
    "Look at resulting json normalized file"
   ]
  },
  {
   "cell_type": "code",
   "execution_count": null,
   "metadata": {},
   "outputs": [],
   "source": [
    "games"
   ]
  },
  {
   "cell_type": "markdown",
   "metadata": {},
   "source": [
    "#### Use a loop to query and build a dataframe by descending popularity\n",
    "Query by descending popularity, skipping by 100s"
   ]
  },
  {
   "cell_type": "code",
   "execution_count": null,
   "metadata": {
    "scrolled": true
   },
   "outputs": [],
   "source": [
    "games2 = pd.DataFrame()\n",
    "for i in range(0,75):\n",
    "\tskip = i*100\n",
    "\turl = \"https://www.boardgameatlas.com/api/search?order_by=popularity&ascending=false&skip=\"+str(skip)+\"&client_id=\"\n",
    "\tresults = requests.get(url).json()\n",
    "\tgamedf = json_normalize(results,'games')\n",
    "\tgamepdf = pd.DataFrame(gamedf)\n",
    "\tgames2 = games2.append(gamepdf,ignore_index=True, sort=False)"
   ]
  },
  {
   "cell_type": "code",
   "execution_count": null,
   "metadata": {},
   "outputs": [],
   "source": [
    "len(games2)"
   ]
  },
  {
   "cell_type": "markdown",
   "metadata": {},
   "source": [
    "### Save dataframe to file"
   ]
  },
  {
   "cell_type": "code",
   "execution_count": null,
   "metadata": {
    "scrolled": true
   },
   "outputs": [],
   "source": [
    "games2.to_csv('Games7400.csv',index=False)"
   ]
  },
  {
   "cell_type": "markdown",
   "metadata": {},
   "source": [
    "### Read in stored games csv"
   ]
  },
  {
   "cell_type": "code",
   "execution_count": null,
   "metadata": {
    "scrolled": true
   },
   "outputs": [],
   "source": [
    "games2=pd.read_csv('Games7400.csv')"
   ]
  },
  {
   "cell_type": "code",
   "execution_count": null,
   "metadata": {
    "scrolled": true
   },
   "outputs": [],
   "source": [
    "games2.columns"
   ]
  },
  {
   "cell_type": "markdown",
   "metadata": {},
   "source": [
    "##### How many games for children?"
   ]
  },
  {
   "cell_type": "code",
   "execution_count": null,
   "metadata": {},
   "outputs": [],
   "source": [
    "len(gsort[(gsort['min_age']<9)])"
   ]
  },
  {
   "cell_type": "code",
   "execution_count": null,
   "metadata": {},
   "outputs": [],
   "source": [
    "len(gsort[(gsort['min_age']<9)& (gsort['average_user_rating']>3)])"
   ]
  },
  {
   "cell_type": "markdown",
   "metadata": {},
   "source": [
    "*************"
   ]
  },
  {
   "cell_type": "markdown",
   "metadata": {},
   "source": [
    "### Get a list of mechanics ids"
   ]
  },
  {
   "cell_type": "code",
   "execution_count": null,
   "metadata": {},
   "outputs": [],
   "source": [
    "# Get a list of the codes for the different types of mechanics\n",
    "url = 'https://www.boardgameatlas.com/api/game/mechanics?client_id='\n",
    "results = requests.get(url).json()\n",
    "mechanics = pd.json_normalize(results['mechanics'])\n",
    "mechanics"
   ]
  },
  {
   "cell_type": "markdown",
   "metadata": {},
   "source": [
    "### Exploratory data analysis"
   ]
  },
  {
   "cell_type": "code",
   "execution_count": null,
   "metadata": {},
   "outputs": [],
   "source": [
    "temp = games2[(games2['msrp']<50)&(games2['msrp']>0)]\n",
    "len(temp)"
   ]
  },
  {
   "cell_type": "code",
   "execution_count": null,
   "metadata": {},
   "outputs": [],
   "source": [
    "temp = temp[(temp['max_players']<10)]\n",
    "len(temp)"
   ]
  },
  {
   "cell_type": "code",
   "execution_count": null,
   "metadata": {},
   "outputs": [],
   "source": [
    "temp = temp[(temp['max_playtime'] < 150)]"
   ]
  },
  {
   "cell_type": "code",
   "execution_count": null,
   "metadata": {},
   "outputs": [],
   "source": [
    "sns.jointplot(x=temp['msrp'], y=temp['max_playtime'], kind='kde')"
   ]
  },
  {
   "cell_type": "markdown",
   "metadata": {},
   "source": [
    "Subset games2 data frame by games with different amounts of user ratings"
   ]
  },
  {
   "cell_type": "code",
   "execution_count": null,
   "metadata": {},
   "outputs": [],
   "source": [
    "g100 = games2[(games2['num_user_ratings'] > 99) &  (games2['num_user_ratings'] <200)]"
   ]
  },
  {
   "cell_type": "code",
   "execution_count": null,
   "metadata": {},
   "outputs": [],
   "source": [
    "len(g100)"
   ]
  },
  {
   "cell_type": "code",
   "execution_count": null,
   "metadata": {},
   "outputs": [],
   "source": [
    "g200 = games2[(games2['num_user_ratings'] > 199) &  (games2['num_user_ratings'] <300)]"
   ]
  },
  {
   "cell_type": "code",
   "execution_count": null,
   "metadata": {},
   "outputs": [],
   "source": [
    "len(g200)"
   ]
  },
  {
   "cell_type": "code",
   "execution_count": null,
   "metadata": {},
   "outputs": [],
   "source": [
    "g200id = g200['id']"
   ]
  },
  {
   "cell_type": "code",
   "execution_count": null,
   "metadata": {},
   "outputs": [],
   "source": [
    "g300 = games2[(games2['num_user_ratings'] > 299) &  (games2['num_user_ratings'] <400)]"
   ]
  },
  {
   "cell_type": "code",
   "execution_count": null,
   "metadata": {},
   "outputs": [],
   "source": [
    "len(g300)"
   ]
  },
  {
   "cell_type": "code",
   "execution_count": null,
   "metadata": {},
   "outputs": [],
   "source": [
    "g300id = g300['id']"
   ]
  },
  {
   "cell_type": "code",
   "execution_count": null,
   "metadata": {},
   "outputs": [],
   "source": [
    "g400 = games2[(games2['num_user_ratings'] > 399) &  (games2['num_user_ratings'] <500)]"
   ]
  },
  {
   "cell_type": "code",
   "execution_count": null,
   "metadata": {},
   "outputs": [],
   "source": [
    "len(games2[(games2['num_user_ratings']>499)])"
   ]
  },
  {
   "cell_type": "code",
   "execution_count": null,
   "metadata": {
    "scrolled": true
   },
   "outputs": [],
   "source": [
    "games2['average_user_rating']\n",
    "games2.average_user_rating = games2.average_user_rating.astype('float')"
   ]
  },
  {
   "cell_type": "code",
   "execution_count": null,
   "metadata": {
    "scrolled": true
   },
   "outputs": [],
   "source": [
    "games2.msrp =  games2.msrp.astype('float')"
   ]
  },
  {
   "cell_type": "code",
   "execution_count": null,
   "metadata": {
    "scrolled": true
   },
   "outputs": [],
   "source": [
    "games2.min_playtime = games2.min_playtime.astype('float')"
   ]
  },
  {
   "cell_type": "markdown",
   "metadata": {},
   "source": [
    "### Explore prices"
   ]
  },
  {
   "cell_type": "code",
   "execution_count": null,
   "metadata": {
    "scrolled": true
   },
   "outputs": [],
   "source": [
    "game_sub = games2[(games2.average_user_rating > 0) & (games2.msrp < 151) & (games2.min_playtime <121)]\n",
    "len(game_sub)"
   ]
  },
  {
   "cell_type": "code",
   "execution_count": null,
   "metadata": {
    "scrolled": true
   },
   "outputs": [],
   "source": [
    "sns.regplot(x='average_user_rating',y='min_playtime', data=game_sub)"
   ]
  },
  {
   "cell_type": "code",
   "execution_count": null,
   "metadata": {
    "scrolled": true
   },
   "outputs": [],
   "source": [
    "g0 = games2.msrp[games2.msrp ==0 ]\n",
    "len(g0)"
   ]
  },
  {
   "cell_type": "code",
   "execution_count": null,
   "metadata": {},
   "outputs": [],
   "source": [
    "# Subset dataframe of just games with no listed MSRP\n",
    "gFree = games2[games2.msrp ==0 ]\n",
    "gFree['name'].head() "
   ]
  },
  {
   "cell_type": "code",
   "execution_count": null,
   "metadata": {
    "scrolled": true
   },
   "outputs": [],
   "source": [
    "msrpl200 = games2.msrp[(games2.msrp < 200) & (games2.msrp >0)]\n",
    "len(msrpl200)"
   ]
  },
  {
   "cell_type": "code",
   "execution_count": null,
   "metadata": {
    "scrolled": true
   },
   "outputs": [],
   "source": [
    "gmsrp200 = games2[(games2.msrp < 200) & (games2.msrp >0)]\n"
   ]
  },
  {
   "cell_type": "code",
   "execution_count": null,
   "metadata": {
    "scrolled": true
   },
   "outputs": [],
   "source": [
    "sns.distplot(msrpl100)"
   ]
  },
  {
   "cell_type": "code",
   "execution_count": null,
   "metadata": {
    "scrolled": true
   },
   "outputs": [],
   "source": [
    "g200names = gmsrp200.id.head()"
   ]
  },
  {
   "cell_type": "markdown",
   "metadata": {},
   "source": [
    "Query by a game name"
   ]
  },
  {
   "cell_type": "code",
   "execution_count": null,
   "metadata": {
    "scrolled": true
   },
   "outputs": [],
   "source": [
    "url = \"https://www.boardgameatlas.com/api/search?name=Catan&client_id=\""
   ]
  },
  {
   "cell_type": "markdown",
   "metadata": {},
   "source": [
    "Query by reviews for an individual game id"
   ]
  },
  {
   "cell_type": "code",
   "execution_count": null,
   "metadata": {
    "scrolled": true
   },
   "outputs": [],
   "source": [
    "url_review = \"https://www.boardgameatlas.com/api/reviews?game_id=YIBcOZqGkI&client_id=\""
   ]
  },
  {
   "cell_type": "markdown",
   "metadata": {},
   "source": [
    "Query by reviews by an individual reviewer"
   ]
  },
  {
   "cell_type": "code",
   "execution_count": null,
   "metadata": {
    "scrolled": true
   },
   "outputs": [],
   "source": [
    "url_review_user = \"https://www.boardgameatlas.com/api/reviews?username=mordroc&client_id=\""
   ]
  },
  {
   "cell_type": "markdown",
   "metadata": {},
   "source": [
    "#### Get a list of game categories and their tags"
   ]
  },
  {
   "cell_type": "code",
   "execution_count": null,
   "metadata": {},
   "outputs": [],
   "source": [
    "urlcats = 'https://www.boardgameatlas.com/api/game/categories?client_id='\n",
    "r = requests.get(urlcats).json()\n",
    "gamecats = json_normalize(r['categories'])\n",
    "gamecats.describe()"
   ]
  },
  {
   "cell_type": "code",
   "execution_count": null,
   "metadata": {},
   "outputs": [],
   "source": [
    "gamecats.to_csv(\"gamecats.csv\")"
   ]
  },
  {
   "cell_type": "code",
   "execution_count": null,
   "metadata": {},
   "outputs": [],
   "source": [
    "gamecats = pd.read_csv(\"gamecats.csv\")"
   ]
  },
  {
   "cell_type": "markdown",
   "metadata": {},
   "source": [
    "#### Build a dictionary with game categories as keys and dataframes of boadgame details as values "
   ]
  },
  {
   "cell_type": "code",
   "execution_count": null,
   "metadata": {},
   "outputs": [],
   "source": [
    "ALLDFS={}\n",
    "for i in gamecats.index[0:114]:\n",
    "    qid=gamecats.loc[i,'id']\n",
    "    url = \"https://www.boardgameatlas.com/api/search?categories=\"+str(qid)+\"&client_id=\"\n",
    "    results = requests.get(url).json()\n",
    "    gamedf = json_normalize(results,'games')\n",
    "    name=gamecats.loc[i,'name']\n",
    "    #print(name)\n",
    "    ALLDFS[name]=gamedf"
   ]
  },
  {
   "cell_type": "code",
   "execution_count": null,
   "metadata": {},
   "outputs": [],
   "source": [
    "ALLDFS['Zombies'].name"
   ]
  },
  {
   "cell_type": "code",
   "execution_count": null,
   "metadata": {},
   "outputs": [],
   "source": [
    "import pickle"
   ]
  },
  {
   "cell_type": "code",
   "execution_count": null,
   "metadata": {},
   "outputs": [],
   "source": [
    "# To write a pickle file\n",
    "with open('ALLDFS2.pickle','wb') as file:\n",
    "    pickle.dump(ALLDFS2,file)"
   ]
  },
  {
   "cell_type": "code",
   "execution_count": null,
   "metadata": {},
   "outputs": [],
   "source": [
    "# To open a pickle file\n",
    "with open('ALLDFS.pickle','rb') as file:\n",
    "    ALLDFS = pickle.load(file)"
   ]
  },
  {
   "cell_type": "markdown",
   "metadata": {},
   "source": [
    "### Build dataframes summarizing data in different ways by category"
   ]
  },
  {
   "cell_type": "code",
   "execution_count": null,
   "metadata": {},
   "outputs": [],
   "source": [
    "XDF=pd.DataFrame()\n",
    "for key in ALLDFS.keys():\n",
    "    x = ALLDFS.get(key)\n",
    "    XDF.loc[key,'len']=len(x.name)\n",
    "    XDF.loc[key,'aur']= x['average_user_rating'][(x['average_user_rating'] >0)].mean()\n",
    "    XDF.loc[key,'minur']= x['average_user_rating'][(x['average_user_rating'] >0)].min() \n",
    "    XDF.loc[key,'maxur']= x['average_user_rating'][(x['average_user_rating'] >0)].max()\n",
    "    XDF.loc[key,'maxplayers']= x['max_players'][(x['max_players'] >0)].mean()\n",
    "    XDF.loc[key,'minplayers']= x['min_players'][(x['min_players'] >0)].mean()\n",
    "    XDF.loc[key,'nrat0']= len(x['average_user_rating'][(x['average_user_rating']==0)])\n",
    "    XDF.loc[key,'nratnz']= len(x['average_user_rating'][(x['average_user_rating']>0)])\n",
    "    XDF.loc[key,'minptmean']= x['min_playtime'][(x['min_playtime'] >0)].mean()\n",
    "    XDF.loc[key,'minptmin']= x['min_playtime'][(x['min_playtime'] >0)].min()\n",
    "    XDF.loc[key,'minptmax']= x['min_playtime'][(x['min_playtime'] >0)].max()\n",
    "    XDF.loc[key,'maxptmean']= x['max_playtime'][(x['max_playtime'] >0)].mean()\n",
    "    XDF.loc[key,'maxptmin']= x['max_playtime'][(x['max_playtime'] >0)].min()\n",
    "    XDF.loc[key,'maxptmax']= x['max_playtime'][(x['max_playtime'] >0)].max()\n"
   ]
  },
  {
   "cell_type": "code",
   "execution_count": null,
   "metadata": {},
   "outputs": [],
   "source": [
    "XDF=pd.DataFrame()\n",
    "for key in ALLDFS.keys():\n",
    "    x = ALLDFS.get(key)\n",
    "    XDF.loc[key,'len']=len(x.name)\n",
    "    XDF.loc[key,'nratnz']= len(x['average_user_rating'][(x['average_user_rating']>0)])\n",
    "    XDF.loc[key,'aur']= x['average_user_rating'][(x['average_user_rating'] >0)].mean()\n",
    "    XDF.loc[key,'minplayers']= x['min_players'][(x['min_players'] >0)].mean()\n",
    "    XDF.loc[key,'maxplayers']= x['max_players'][(x['max_players'] >0)].mean()\n",
    "    XDF.loc[key,'minptmean']= x['min_playtime'][(x['min_playtime'] >0)].mean()\n",
    "    XDF.loc[key,'maxptmean']= x['max_playtime'][(x['max_playtime'] >0)].mean()"
   ]
  },
  {
   "cell_type": "code",
   "execution_count": null,
   "metadata": {},
   "outputs": [],
   "source": [
    "XDF.head(3)"
   ]
  },
  {
   "cell_type": "markdown",
   "metadata": {},
   "source": [
    "#### Simple plotting of data distributions amongst categories"
   ]
  },
  {
   "cell_type": "code",
   "execution_count": null,
   "metadata": {},
   "outputs": [],
   "source": [
    "grnz10 = XDF[(XDF.nratnz >10)]"
   ]
  },
  {
   "cell_type": "code",
   "execution_count": null,
   "metadata": {},
   "outputs": [],
   "source": [
    "sns.boxplot(x='aur',data=grnz10)"
   ]
  },
  {
   "cell_type": "code",
   "execution_count": null,
   "metadata": {},
   "outputs": [],
   "source": [
    "sns.boxplot(x='minptmean',data=grnz10)"
   ]
  },
  {
   "cell_type": "code",
   "execution_count": null,
   "metadata": {},
   "outputs": [],
   "source": [
    "sns.boxplot(x='maxptmean',data=grnz10)"
   ]
  },
  {
   "cell_type": "code",
   "execution_count": null,
   "metadata": {},
   "outputs": [],
   "source": [
    "sns.boxplot(x='minplayers',data=grnz10)"
   ]
  },
  {
   "cell_type": "code",
   "execution_count": null,
   "metadata": {},
   "outputs": [],
   "source": [
    "sns.boxplot(x='maxplayers',data=grnz10)"
   ]
  },
  {
   "cell_type": "code",
   "execution_count": null,
   "metadata": {},
   "outputs": [],
   "source": [
    "ALLDFS\n",
    "XDF2=pd.DataFrame()\n",
    "for key in ALLDFS2.keys():\n",
    "    x = ALLDFS2.get(key)\n",
    "    XDF2.loc[key,'len']=len(x)"
   ]
  }
 ],
 "metadata": {
  "kernelspec": {
   "display_name": "Python 3",
   "language": "python",
   "name": "python3"
  },
  "language_info": {
   "codemirror_mode": {
    "name": "ipython",
    "version": 3
   },
   "file_extension": ".py",
   "mimetype": "text/x-python",
   "name": "python",
   "nbconvert_exporter": "python",
   "pygments_lexer": "ipython3",
   "version": "3.7.7"
  }
 },
 "nbformat": 4,
 "nbformat_minor": 4
}
